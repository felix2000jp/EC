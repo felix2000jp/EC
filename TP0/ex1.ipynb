{
 "cells": [
  {
   "cell_type": "code",
   "execution_count": 14,
   "metadata": {},
   "outputs": [],
   "source": [
    "from cryptography.hazmat.primitives import hashes, hmac\n",
    "from cryptography.hazmat.primitives.asymmetric import dh\n",
    "from cryptography.hazmat.primitives.kdf.hkdf import HKDF\n",
    "import cryptography.exceptions\n",
    "import os\n",
    "from cryptography.hazmat.primitives.ciphers.aead import AESGCM\n",
    "from cryptography.hazmat.primitives.kdf.pbkdf2 import PBKDF2HMAC\n",
    "from cryptography.hazmat.primitives import padding\n",
    "import time\n"
   ]
  },
  {
   "cell_type": "markdown",
   "metadata": {},
   "source": [
    "# Emitter\n",
    "No enunciado era pedida uma comunação assíncrona entre uma entidade emissora e uma entidade recetora. O que o nosso grupo fez foi uma simulação local desta comunicação. \n",
    "\n",
    "A classe emitter tem 2 argumentos, uma private_key e uma shared_key. A private key será gerada tendo em conta os parametros acordados entre o emissor e o recetor enquanto que a shared_key será obtida através das chaves publicas associadas às chaves privadas do recetor e do emissor. A chave partilhada calculada nuncva vai ser enviada para nenhum lado e vai ser utilizada na autenticação HMAC. Desta maneira, é muito mais difícil para um atacante obter esta chave visto que precisa de uma chave privada e de uma chave publica.\n",
    "\n",
    "Na função talk_to_you enviamos a mensagem. Usamos o método HMAC para autentificação e depois para evitar ataques de nonce geramos um valor aleatório"
   ]
  },
  {
   "cell_type": "code",
   "execution_count": 15,
   "metadata": {},
   "outputs": [],
   "source": [
    "class Emitter:\n",
    "    def __init__(self):\n",
    "        self.private_key = None\n",
    "        self.shared_key  = None\n",
    "\n",
    "    def get_private_key(self, parameters):\n",
    "        self.private_key = parameters.generate_private_key()\n",
    "\n",
    "    def get_shared_key(self, receiver_public_key):\n",
    "        key = self.private_key.exchange(receiver_public_key)\n",
    "        # Derivar chave\n",
    "        self.shared_key = HKDF(\n",
    "            algorithm=hashes.SHA256(),\n",
    "            length=32,\n",
    "            salt=None,\n",
    "            info=None,\n",
    "        ).derive(key)\n",
    "\n",
    "    def talk_to_you(self, message):\n",
    "        h = hmac.HMAC(self.shared_key, hashes.SHA256())\n",
    "        h.update(b\"YOYOYO\")\n",
    "        signature = h.finalize()\n",
    "\n",
    "        nonce = os.urandom(16)\n",
    "        alg = AESGCM(self.shared_key)\n",
    "        aad = os.urandom(16)\n",
    "        cipher_text = alg.encrypt(nonce, message, aad)\n",
    "        return (signature + nonce + aad + cipher_text)"
   ]
  },
  {
   "cell_type": "markdown",
   "metadata": {},
   "source": [
    "A classe Receiver tem tal como a classe Emitter uma chave privada e uma chave partilhada que são obtidas de igual forma.\n",
    "\n",
    "A maior distinção está na função talk_to_me onde ele pretende verificar se a mensagem que tem é de facto igual à mensagem enviada pelo emissor. Dos dados recebidos ele faz uma separação deles. Começa por verificar a autentiação com um método HMAC, e caso se verifique que de facto é a mesma mensagem, ele decifra a mensagem recebida e mostra-a ao utilizador."
   ]
  },
  {
   "cell_type": "code",
   "execution_count": 16,
   "metadata": {},
   "outputs": [],
   "source": [
    "class Receiver:\n",
    "    def __init__(self):\n",
    "        self.private_key = None\n",
    "        self.shared_key  = None\n",
    "\n",
    "    def get_private_key(self, parameters):\n",
    "        self.private_key = parameters.generate_private_key()\n",
    "\n",
    "    def get_shared_key(self, emitter_public_key):\n",
    "        key = self.private_key.exchange(emitter_public_key)\n",
    "        # Derivar chave\n",
    "        self.shared_key = HKDF(\n",
    "            algorithm=hashes.SHA256(),\n",
    "            length=32,\n",
    "            salt=None,\n",
    "            info=None,\n",
    "        ).derive(key)\n",
    "\n",
    "    def talk_to_me(self, data):\n",
    "        isValid = False\n",
    "        signature = data[:32]\n",
    "        nonce = data[32:48]\n",
    "        aad = data[48:64]\n",
    "        cipher_text = data[64:]\n",
    "        verified = \"\"\n",
    "\n",
    "        h = hmac.HMAC(self.shared_key, hashes.SHA256())\n",
    "        h.update(b\"YOYOYO\")\n",
    "        try: \n",
    "            h.verify(signature)\n",
    "            verified = \"Yo\"\n",
    "        except cryptography.exceptions.InvalidSignature:\n",
    "            verified = \"Not Yo\"\n",
    "\n",
    "        if verified == 'Yo':\n",
    "            isValid = True\n",
    "\n",
    "        if(isValid):\n",
    "            alg = AESGCM(self.shared_key)\n",
    "            clean_text = alg.decrypt(nonce, cipher_text, aad)\n",
    "            print(clean_text)"
   ]
  },
  {
   "cell_type": "markdown",
   "metadata": {},
   "source": [
    "Vamos agora simular a nossa comunicação assíncrona. Iniciamos o emissor e o recetor, e geramos parâmetros comuns aos dois que serão utilizados para obter as chaves privadas. Normalmente estes parâmetros seriam acordados entre as duas entidades, mas aqui para facilitar nmão temos essa discussão de parâmetros.\n",
    "\n",
    "De seguida cada entidade gera a sua própria chave privada, chave esta que nunca deve ser comunicada a mais ninguém. Aquilo que é enviado é a chave pública associada à chave privada, esta sim pode ser partilhada de forma totalmente livre sem que seja preciso preocupar-nos se algúem a apanha. Tendo o emissor a sua chave privada e a chave publica do recetor, ele gera uma chave partilhada; do outro lado tendo o recetor a sua chave privada e a chave pública do emissor, a mesma chave partilhada é obtida.\n",
    "\n",
    "Finalmente estão prontos para comunicar um com o outro. O que o grupo aqui quer fazer é dada uma certa mensagem, verificar que tanto o emissor e o recetor têm a mesma mensagem. Para isso fazemos uma autenticação com o método HMAC, com passos extra para evitar ataques nonce. No caso da mensagem ser igual dos dois lados é retornada a mensagem, caso contrário não há retorno. Contamos o tempo deste processo para comparar com o exercício 2."
   ]
  },
  {
   "cell_type": "code",
   "execution_count": 17,
   "metadata": {},
   "outputs": [
    {
     "ename": "TypeError",
     "evalue": "talk_to_me() takes 2 positional arguments but 3 were given",
     "output_type": "error",
     "traceback": [
      "\u001b[0;31m---------------------------------------------------------------------------\u001b[0m",
      "\u001b[0;31mTypeError\u001b[0m                                 Traceback (most recent call last)",
      "\u001b[0;32m/tmp/ipykernel_13658/3775634088.py\u001b[0m in \u001b[0;36m<module>\u001b[0;34m\u001b[0m\n\u001b[1;32m     19\u001b[0m \u001b[0;31m# Autenticação\u001b[0m\u001b[0;34m\u001b[0m\u001b[0;34m\u001b[0m\u001b[0m\n\u001b[1;32m     20\u001b[0m \u001b[0mdata\u001b[0m \u001b[0;34m=\u001b[0m \u001b[0memitter\u001b[0m\u001b[0;34m.\u001b[0m\u001b[0mtalk_to_you\u001b[0m\u001b[0;34m(\u001b[0m\u001b[0mmessage\u001b[0m\u001b[0;34m)\u001b[0m\u001b[0;34m\u001b[0m\u001b[0;34m\u001b[0m\u001b[0m\n\u001b[0;32m---> 21\u001b[0;31m \u001b[0mreceiver\u001b[0m\u001b[0;34m.\u001b[0m\u001b[0mtalk_to_me\u001b[0m\u001b[0;34m(\u001b[0m\u001b[0mmessage\u001b[0m\u001b[0;34m,\u001b[0m \u001b[0mdata\u001b[0m\u001b[0;34m)\u001b[0m\u001b[0;34m\u001b[0m\u001b[0;34m\u001b[0m\u001b[0m\n\u001b[0m\u001b[1;32m     22\u001b[0m \u001b[0;34m\u001b[0m\u001b[0m\n\u001b[1;32m     23\u001b[0m \u001b[0mend\u001b[0m \u001b[0;34m=\u001b[0m \u001b[0mtime\u001b[0m\u001b[0;34m.\u001b[0m\u001b[0mtime\u001b[0m\u001b[0;34m(\u001b[0m\u001b[0;34m)\u001b[0m\u001b[0;34m\u001b[0m\u001b[0;34m\u001b[0m\u001b[0m\n",
      "\u001b[0;31mTypeError\u001b[0m: talk_to_me() takes 2 positional arguments but 3 were given"
     ]
    }
   ],
   "source": [
    "start = time.time()\n",
    "\n",
    "emitter  = Emitter()\n",
    "receiver = Receiver()\n",
    "\n",
    "message = b'MACACO CUSPIDEIRA BUFALO'\n",
    "\n",
    "# Geramos parametros acordados entre emissor e recetor\n",
    "parameters = dh.generate_parameters(generator=2, key_size=1024)\n",
    "\n",
    "# Private keys\n",
    "emitter.get_private_key(parameters)\n",
    "receiver.get_private_key(parameters) \n",
    "\n",
    "# Shared Keys\n",
    "emitter.get_shared_key(receiver.private_key.public_key())\n",
    "receiver.get_shared_key(emitter.private_key.public_key())\n",
    "\n",
    "# Autenticação \n",
    "data = emitter.talk_to_you(message)\n",
    "receiver.talk_to_me(data)\n",
    "\n",
    "end = time.time()\n",
    "print(end - start)"
   ]
  }
 ],
 "metadata": {
  "interpreter": {
   "hash": "8ba6743dafe343a4d801545260922497129de947da4f0d4dee5bf5f2fed8b245"
  },
  "kernelspec": {
   "display_name": "Python 3.9.7 ('cripto')",
   "language": "python",
   "name": "python3"
  },
  "language_info": {
   "codemirror_mode": {
    "name": "ipython",
    "version": 3
   },
   "file_extension": ".py",
   "mimetype": "text/x-python",
   "name": "python",
   "nbconvert_exporter": "python",
   "pygments_lexer": "ipython3",
   "version": "3.9.7"
  },
  "orig_nbformat": 4
 },
 "nbformat": 4,
 "nbformat_minor": 2
}
