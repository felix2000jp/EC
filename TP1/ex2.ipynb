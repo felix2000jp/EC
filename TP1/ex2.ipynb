{
 "cells": [
  {
   "cell_type": "code",
   "execution_count": 1,
   "metadata": {},
   "outputs": [],
   "source": [
    "import os\n",
    "from cryptography.hazmat.primitives import hashes\n",
    "from cryptography.hazmat.primitives.kdf.hkdf import HKDF"
   ]
  },
  {
   "cell_type": "markdown",
   "metadata": {},
   "source": [
    "### Aliena (a)\n",
    "\n",
    "Falando um bocadinho do processo que o nosso grupo seguiu para resolver esta primeira alinea, a nossa primeira preocupação foi a geração de chaves publica e privada. Começamos por escolher dois números primos \"q\" e \"p\", ambos têm de ser de ordem 10^100, e calculamos o \"n\" (multiplicando \"p\" por \"q\") e o totiente de euler. A seguir escolhemos um número inteiro aleatório \"e\" entre 1 e \"n\" que seja co-primo com o totiente de euler (podemos verificar esta condição usando a função que no indica o máximo divisor comum entre dois números, no caso de não ser 1 temos de procurar outro \"e\"). Tendo este número \"e\", calculamos \"d\" de forma que este seja o inverso multiplicativo de \"e\" em modulo \"n\". Tendo tudo isto calculado, a chave privada é o par (n, d) e a chave pública é o par (n, e).\n",
    "\n",
    "Para cifrar uma mensagem damos uso à chave publica do peer (\"n\", \"e\") e fazemos o seguinte cálculo \"mensagem ^ e % n\". O resultado é mensagem cifrada. Para decifrar usamos a nossa chave privada e fazemos o cálculo \"mensagem_cifrada ^ d % n\" e o resultado devolve a mensagem decifrada.\n",
    "\n",
    "Para finalizar vamos agora comentar o encapsulamento e desencapsulamento gerado pelo grupo. Para encapsular uma chave publica de forma a obter uma chave simétrica, em primeiro lugar, escolhemos um \"m\" aleatório tal que 1 < m < n, de seguida ciframos esse m com o método descrito a cima. Transformamos o m em bytes e passamos por um KDF à escolha (no nosso caso escolhemos o HKDF) para obter a chave simétrica. Para desencapsular deciframos o m cifrado, passamos a bytes e passamos pelo KDF dado no encapsulamento e obtemos a chave simétrica."
   ]
  },
  {
   "cell_type": "code",
   "execution_count": 2,
   "metadata": {},
   "outputs": [],
   "source": [
    "class KEM_RSA:\n",
    "    def __init__(self, salt):\n",
    "        self.private_key = None\n",
    "        self.public_key  = None\n",
    "        self.salt = salt\n",
    "\n",
    "    \n",
    "    # Metodos Privados\n",
    "    def __encrypt(self, message, peer_public_key):\n",
    "        n, e = peer_public_key\n",
    "        # message ^ e % n\n",
    "        return power_mod(message, e, n)\n",
    "\n",
    "    def __decrypt(self, cipher_message):\n",
    "        n, d = self.private_key\n",
    "        # cipher_message ^ d % n\n",
    "        return power_mod(cipher_message, d, n)\n",
    "\n",
    "\n",
    "    # Metodos publicos\n",
    "    def generate_keys(self, tam):\n",
    "        # Dois primos q e p (tam deve ser no minimo 1024)\n",
    "        q = random_prime(2 ^ (tam / 2) - 1, true, 2 ^ (tam / 2 - 1))\n",
    "        p = random_prime(2 ^ (tam / 2) - 1, true, 2 ^ (tam / 2 - 1))\n",
    "        \n",
    "        # n é o produto de q e p\n",
    "        n = p * q\n",
    "        \n",
    "        # Função do totiente de euler\n",
    "        phi = (p - 1) * (q - 1)\n",
    "        \n",
    "        # Escolher um inteiro e tal que 1 < e < phi\n",
    "        # e e phi têm de ser relativamente primos entre si\n",
    "        # Para isso verificamos o máximo divisor comum entre os dois\n",
    "        e = ZZ.random_element(phi)\n",
    "        while gcd(e, phi) != 1:\n",
    "            e = ZZ.random_element(phi)\n",
    "\n",
    "        # Escolher d tal que d seja o inverso multiplicativo de e\n",
    "        d = inverse_mod(e, phi)\n",
    "\n",
    "        # Chaves\n",
    "        self.private_key = (n, d)\n",
    "        self.public_key  = (n, e)\n",
    "\n",
    "    def encapsulation(self, peer_public_key, my_m):\n",
    "        n, e = peer_public_key\n",
    "\n",
    "        if (my_m == 0):\n",
    "            # Encontrar m tal que 1 < m < n e depois encriptar\n",
    "            m = ZZ.random_element(n)\n",
    "        else:\n",
    "            m = my_m\n",
    "        m_encrypted = self.__encrypt(m, peer_public_key)\n",
    "\n",
    "        # Obter chave\n",
    "        m_in_bytes = int.to_bytes(int(m), int(m).bit_length(), \"big\")\n",
    "        symetric_key = HKDF(\n",
    "            algorithm=hashes.SHA256(),\n",
    "            length=32,\n",
    "            salt=self.salt,\n",
    "            info=None,\n",
    "        ).derive(m_in_bytes)\n",
    "\n",
    "        # Podemos mandar sem ser em bytes?        \n",
    "        return symetric_key, m_encrypted\n",
    "\n",
    "    def decapsulation(self, m_encrypted):\n",
    "        m = self.__decrypt(m_encrypted)\n",
    "        m_in_bytes = int.to_bytes(int(m), int(m).bit_length(), \"big\")\n",
    "        symetric_key = HKDF(\n",
    "            algorithm=hashes.SHA256(),\n",
    "            length=32,\n",
    "            salt=self.salt,\n",
    "            info=None,\n",
    "        ).derive(m_in_bytes)\n",
    "\n",
    "        return symetric_key"
   ]
  },
  {
   "cell_type": "code",
   "execution_count": 168,
   "metadata": {},
   "outputs": [
    {
     "name": "stdout",
     "output_type": "stream",
     "text": [
      "Chave do lado do bob:    b'\\xe1]\\xe6\\xb0\\x06}\\xe2\\x9e\\xee\\x99\\xb4\\xf0\\x00\\xf4\\x8bW\\xcd\\xde\\xa2\\xd2\\x81u\\x83\"\\x9eE>\\x92\\xde\\xb8n\\x9e'\n",
      "Chave do lado da alice:  b'\\xe1]\\xe6\\xb0\\x06}\\xe2\\x9e\\xee\\x99\\xb4\\xf0\\x00\\xf4\\x8bW\\xcd\\xde\\xa2\\xd2\\x81u\\x83\"\\x9eE>\\x92\\xde\\xb8n\\x9e'\n"
     ]
    }
   ],
   "source": [
    "salt = os.urandom(12)\n",
    "\n",
    "bob_RSA   = KEM_RSA(salt)\n",
    "alice_RSA = KEM_RSA(salt)\n",
    "\n",
    "# Gerar chaves\n",
    "bob_RSA.generate_keys(1024)\n",
    "alice_RSA.generate_keys(1024)\n",
    "\n",
    "\n",
    "symetric_key_bob, m_encrypted = bob_RSA.encapsulation(alice_RSA.public_key, 0)\n",
    "symetric_key_alice = alice_RSA.decapsulation(m_encrypted)\n",
    "\n",
    "print(\"Chave do lado do bob:   \", symetric_key_bob)\n",
    "print(\"Chave do lado da alice: \", symetric_key_alice)"
   ]
  },
  {
   "cell_type": "markdown",
   "metadata": {},
   "source": [
    "### Alínea (b)\n",
    "\n",
    "O primeiro passo para construir um PKE foi escolher duas funções hash, h(x) (sha256) e g(x) (BLAKE2s). Tendo escolhido estas duas funções, para cifrar uma mensagem começamos por aplicar a função h(x) mensagem obtendo assim a bit string \"r\". De seguida aplicamos a operação XOR à mensagem e à bit string obtida passando o valor \"r\" pela função hash g(x) (mensagem XOR h(g(mensgame))), o restultado desta operação devolve-nos o resultado de y. Somando as strings \"y\" e \"r\" obtemos \"r'\", convertemos \"r'\" a inteiro e agora vamos usar o KEM contruido anteriormente. Recordando que para realizar a operação de encapsulamento começamos por escolher um inteiro aleatório \"m\" entre 1 e \"n\", neste caso esse intereiro não precisará de ser calculado, visto que \"m\" terá o valor de \"r'\", obtendo assim um m cifrado e uma chave simetrica. Queremos finalmente calcular uma bit string \"c\" que resultará da operação XOR sobre a chave obtida do encapsulamento e o \"r\". O processo de cifragem deverá retornar o \"y\", o \"c\" e o \"m cifrado\". \n",
    "\n",
    "Para decifrar a mensagem pegamos no que foi retornado pelo processo de cifragem (\"y\", \"c\" e \"m cifrado\") e fazemos um processo análogo à cifragem. Desencapsulamos o \"m cifrado\" e obtemos uma bit string (que corresponde a uma chave simetrica) e calculamos um \"r\" com a operação XOR aplicada ao \"c\" e à chave simétrica. Somamos o \"y\" da cifragem a este novo \"r\" obtendo um novo \"r'\" que logo de seguida convertemos a um inteiro. Agora queremos fazer uma verificação para saber que os valores que obtemos sao de facto iguais aos que o nosso peer tem, para isso usamos o processo de encapsulamento criado acima usando a nossa chave publica e o \"r'\" inteiro como \"m\". Este resultado deverá resultar numa chave e num m que devem ser ter valores iguais aos obtidos anteriormente. Para obter a mensagem fazemos uma operação XOR sobre o \"y\" e o resultado do hash g(r)."
   ]
  },
  {
   "cell_type": "code",
   "execution_count": 173,
   "metadata": {},
   "outputs": [],
   "source": [
    "class PKE:\n",
    "    def __init__(self, kem):\n",
    "        self.kem     = kem\n",
    "    \n",
    "\n",
    "    # Metodos Privados\n",
    "    def __hash_functio_h(self, message):\n",
    "        digest = hashes.Hash(hashes.SHA256())\n",
    "        digest.update(message)\n",
    "        return digest.finalize()\n",
    "    \n",
    "    def __hash_functio_g(self, message):\n",
    "        digest = hashes.Hash(hashes.BLAKE2s(32))\n",
    "        digest.update(message)\n",
    "        return digest.finalize()\n",
    "\n",
    "\n",
    "    # Metodos Publicos\n",
    "    def encrypt(self, message, peer_public_key):\n",
    "        # r <- h(message)\n",
    "        r = self.__hash_functio_h(message)\n",
    "        # y <- message XOR g(r)\n",
    "        y = bytes([a ^^ b for a, b in zip(message, self.__hash_functio_g(r))])\n",
    "        # Concatenamos y e r\n",
    "        new_r = y + r\n",
    "        new_r_int = int.from_bytes(new_r, \"big\") \n",
    "\n",
    "        # Vamos agora usar o KEM construido na alinea anterior\n",
    "        symetric_key, m_encrypted = self.kem.encapsulation(peer_public_key, new_r_int)\n",
    "        \n",
    "        # c = symetric_key XOR r\n",
    "        c = bytes([a ^^ b for a, b in zip(symetric_key, r)])\n",
    "\n",
    "        return y, m_encrypted, c\n",
    "        \n",
    "    def decrypt(self, y, m_encrypted, c):\n",
    "        # Usamos o KEM para obter a chave\n",
    "        symetric_key = self.kem.decapsulation(m_encrypted)\n",
    "        \n",
    "        # Repetimos o processo mas com r <- c XOR symetric_key\n",
    "        r = bytes([a ^^ b for a, b in zip(c, symetric_key)])\n",
    "        new_r = y + r\n",
    "        new_r_int = int.from_bytes(new_r, \"big\") \n",
    "\n",
    "        # Verificamos pois f(public_key, new_r) = (symetric_key, m_encrypted)\n",
    "        new_symetric_key, new_m_encrypted = self.kem.encapsulation(self.kem.public_key, new_r_int)\n",
    "        if symetric_key != new_symetric_key:\n",
    "            print(\"Not YO: symetric_key is diferent\")\n",
    "        else:\n",
    "            if m_encrypted != new_m_encrypted:\n",
    "                print(\"Not YO: m_encrypted is diferent\")\n",
    "            else:\n",
    "                message = bytes([a ^^ b for a, b in zip(y, self.__hash_functio_g(r))])\n",
    "                print(\"Yo the message is: \", message)"
   ]
  },
  {
   "cell_type": "code",
   "execution_count": 174,
   "metadata": {},
   "outputs": [
    {
     "name": "stdout",
     "output_type": "stream",
     "text": [
      "Yo the message is:  b'This message is YO'\n"
     ]
    }
   ],
   "source": [
    "salt = os.urandom(12)\n",
    "\n",
    "bob_RSA = KEM_RSA(salt)\n",
    "bob_RSA.generate_keys(1024)\n",
    "\n",
    "alice_RSA = KEM_RSA(salt)\n",
    "alice_RSA.generate_keys(1024)\n",
    "\n",
    "\n",
    "bob_PKE = PKE(bob_RSA)\n",
    "y, m_encrypted, c = bob_PKE.encrypt(b\"This message is YO\", alice_RSA.public_key)\n",
    "\n",
    "alice_PKE = PKE(alice_RSA)\n",
    "alice_PKE.decrypt(y, m_encrypted, c)"
   ]
  }
 ],
 "metadata": {
  "interpreter": {
   "hash": "8ba6743dafe343a4d801545260922497129de947da4f0d4dee5bf5f2fed8b245"
  },
  "kernelspec": {
   "display_name": "SageMath 9.3",
   "language": "sage",
   "name": "sagemath"
  },
  "language_info": {
   "codemirror_mode": {
    "name": "ipython",
    "version": 3
   },
   "file_extension": ".py",
   "mimetype": "text/x-python",
   "name": "sage",
   "nbconvert_exporter": "python",
   "pygments_lexer": "ipython3",
   "version": "3.9.7"
  },
  "orig_nbformat": 4
 },
 "nbformat": 4,
 "nbformat_minor": 2
}
