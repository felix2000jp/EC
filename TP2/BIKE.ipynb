{
 "cells": [
  {
   "cell_type": "code",
   "execution_count": 5,
   "metadata": {},
   "outputs": [],
   "source": [
    "import random as rn\n",
    "import numpy as np\n",
    "from cryptography.hazmat.primitives import hashes"
   ]
  },
  {
   "cell_type": "markdown",
   "metadata": {},
   "source": [
    "# BIKE\n",
    "Vamos agora falar um pouco do mecanismo BIKE, o unico dos 3 propostos para o trabalho que não passou à ultima faze do concurso por questões de eficiencia.\n",
    "Quando consultamos a documentação reparámos desde logo que das 3 é talvez a menos detalhada (na nossa opinião) pelo que tivemos bastantes dificuldade na sua implementação. Vimos que o professor tem na dropbox da disciplina o código deste mecanismo com o decoder Bit flip. Decidimos então implementar o código disponibilizado, com algumas alterações para nossa compreensão e para que esteja num contexto de classes e depois tentámos trocar o algoritmos Bit Flip pelo Black-Gray Decoder visto que este é o decoder proposto no mais recente documento de especificação."
   ]
  },
  {
   "cell_type": "code",
   "execution_count": 6,
   "metadata": {},
   "outputs": [],
   "source": [
    "class BIKE():\n",
    "    def __init__(self):\n",
    "        self.r = 257\n",
    "        self.n = 2 * self.r\n",
    "        self.t = 16\n",
    "\n",
    "        self.F = GF(2)\n",
    "        self.u = self.F(1)\n",
    "        self.z = self.F(0)\n",
    "\n",
    "        R = PolynomialRing(self.F, 'a') ; a = R.gen()\n",
    "        self.Rr = R.quotient(a ^ self.r - 1 , 'x') ; self.x = self.Rr.gen()\n",
    "\n",
    "        self.Vn  = VectorSpace(self.F, self.n)\n",
    "        self.Vr  = VectorSpace(self.F, self.r)\n",
    "        self.Vq  = VectorSpace(QQ, self.r)\n",
    "        self.Mr  = MatrixSpace(self.F, self.n, self.r)\n",
    "\n",
    "\n",
    "    # sparse polynomials of size r\n",
    "    # produz sempre um polinómio mónico com o último coeficiente igual a 1\n",
    "    # o parametro \"sparse > 0\"  é o numero de coeficientes não nulos sem contar com o primeiro e o ultimo\n",
    "    def sparse_pol(self, sparse=3):\n",
    "        coeffs = [1] * sparse + [0] * (self.r - 2 - sparse)\n",
    "        rn.shuffle(coeffs)\n",
    "        return self.Rr([1] + coeffs + [1])\n",
    "\n",
    "    # Noise\n",
    "    # produz um par de polinomios dispersos de tamanho \"r\" com um dado número total de erros \"t\"\n",
    "    def noise(self):\n",
    "        el = [self.u] * self.t + [self.z] * (self.n - self.t)\n",
    "        rn.shuffle(el)  \n",
    "        return (self.Rr(el[:self.r]), self.Rr(el[self.r:]))\n",
    "    \n",
    "\n",
    "    def expand(self, f):\n",
    "        fl = f.list(); ex = self.r - len(fl)\n",
    "        return self.Vr(fl + [self.z] * ex)\n",
    "\n",
    "    def expand2(self, code):\n",
    "        (f0,f1) = code\n",
    "        f = self.expand(f0).list() + self.expand(f1).list()\n",
    "        return self.Vn(f)\n",
    "\n",
    "    def unexpand2(self, vec):\n",
    "        a = vec.list()\n",
    "        return (self.Rr(a[:self.r]), self.Rr(a[self.r:]))\n",
    "\n",
    "    \n",
    "    def rot(self, h):\n",
    "        v = self.Vr() ; v[0] = h[-1]\n",
    "        for i in range(self.r - 1):\n",
    "            v[i + 1] = h[i]\n",
    "        return v\n",
    "\n",
    "    def Rot(self, h):\n",
    "        M = Matrix(self.F, self.r, self.r) ; M[0] = self.expand(h)\n",
    "        for i in range(1, self.r):\n",
    "            M[i] = self.rot(M[i - 1])\n",
    "        return M\n",
    "\n",
    "    \n",
    "    def mk_key(self, a):\n",
    "        uu  = np.packbits(list(map(lift,self.expand2(a))))\n",
    "        hsh = hashes.Hash(hashes.SHAKE256(int(256)))\n",
    "        hsh.update(uu)\n",
    "        return hsh.finalize()\n",
    "\n",
    "\n",
    "    def mask(self, b , v):                                 ## \n",
    "        return b.pairwise_product(v)\n",
    "\n",
    "    def hamm(self, b):                                     ## peso de Hamming\n",
    "        return sum([1 if a == self.u else 0 for a in b])\n",
    "\n",
    "    # Uma implementação do algoritmo Bit Flip sem quaisquer optimizações\n",
    "    def BF(self, H, code, synd, errs=0):\n",
    "        mycode   = code   # F2 cipher\n",
    "        mysynd   = synd   # Maximal syndrome weight\n",
    "        cnt_iter = self.r # Maximal number of iterations\n",
    "\n",
    "        while cnt_iter > 0 and self.hamm(mysynd) > errs:\n",
    "            cnt_iter   = cnt_iter - 1\n",
    "            \n",
    "            unsats     = [self.hamm(self.mask(mysynd, H[i])) for i in range(self.n)]\n",
    "            max_unsats = max(unsats)\n",
    "            \n",
    "            for i in range(self.n):\n",
    "                if unsats[i]  == max_unsats:\n",
    "                    mycode[i] += self.u               ## bit-flip\n",
    "                    mysynd    += H[i]\n",
    "                    \n",
    "        return mycode\n",
    "\n",
    "\n",
    "    def BitFlipIter(self, synd, code, max_unsat, H, errs=0):\n",
    "        mycode   = code             # F2 cipher\n",
    "        mysynd   = synd             # Maximal syndrome weight\n",
    "\n",
    "        black  = [0] * self.n \n",
    "        gray   = [0] * self.n\n",
    "        unsats = [self.hamm(self.mask(mysynd, H[i])) for i in range(self.n)]\n",
    "\n",
    "        for i in range(self.n):\n",
    "            if unsats[i] == max_unsat:\n",
    "                mycode[i] += self.u\n",
    "                black[i]   = self.u\n",
    "                mysynd    += H[i]\n",
    "            elif unsats[i] >= max_unsat - 3:\n",
    "                gray[i] = self.u\n",
    "                mysynd += H[i]\n",
    "            \n",
    "        return (mysynd, mycode, black, gray)\n",
    "    \n",
    "    def BitFlipMaskedIter(self, synd, code, mask, max_unsat, H):\n",
    "        mycode = code\n",
    "        mysynd = synd\n",
    "        unsats = [self.hamm(self.mask(mysynd, H[i])) for i in range(self.n)]\n",
    "        for i in range(self.n):\n",
    "            if unsats[i] == max_unsat: # ==?\n",
    "                mycode[i] += mask[i]\n",
    "                mysynd    += H[i]\n",
    "\n",
    "        return (synd, code)\n",
    "\n",
    "    def BGF(self, H, code, synd, errs=0):\n",
    "        mycode   = code   # F2 cipher\n",
    "        mysynd   = synd   # Maximal syndrome weight\n",
    "        cnt_iter = self.r # Maximal number of iterations\n",
    "\n",
    "        while cnt_iter > 0 and self.hamm(mysynd) > errs:\n",
    "            cnt_iter   = cnt_iter - 1\n",
    "            \n",
    "            unsats   = [self.hamm(self.mask(mysynd, H[i])) for i in range(self.n)]\n",
    "            max_unsat = max(unsats)\n",
    "            \n",
    "            (mysynd, mycode, black, gray) = self.BitFlipIter(mysynd, mycode, max_unsat, H)\n",
    "            (mysynd, mycode) = self.BitFlipMaskedIter(mysynd, mycode, black, max_unsat, H)\n",
    "            (mysynd, mycode) = self.BitFlipMaskedIter(mysynd, mycode, gray, max_unsat, H)\n",
    "\n",
    "        return mycode\n",
    "            "
   ]
  },
  {
   "cell_type": "code",
   "execution_count": 7,
   "metadata": {},
   "outputs": [],
   "source": [
    "class BIKE_PKE(BIKE):\n",
    "    def key_generation(self):\n",
    "        while True:\n",
    "            h0 = self.sparse_pol(); h1 = self.sparse_pol()\n",
    "            if h0 != h1 and h0.is_unit() and h1.is_unit():\n",
    "                break\n",
    "        \n",
    "        secret_key = (h0, h1)\n",
    "        public_key = (1, h0 / h1) \n",
    "        return public_key, secret_key\n",
    "\n",
    "    def encryption(self, public_key, message, e10=None, e11=None):\n",
    "        g0, g1 = public_key\n",
    "        if e10 != None and e11 != None:\n",
    "            e0 = e10\n",
    "            e1 = e11\n",
    "        else:\n",
    "            e0, e1 = self.noise()\n",
    "\n",
    "\n",
    "        return (message * g0 + e0, message * g1 + e1)\n",
    "\n",
    "    def decryption(self, secret_key, cifra):\n",
    "        code = self.expand2(cifra)\n",
    "\n",
    "        (h0, h1) = secret_key\n",
    "        H        = block_matrix(2, 1, [self.Rot(h0), self.Rot(h1)])\n",
    "        synd     = code * H\n",
    "\n",
    "        cw = self.BF(H, code, synd)\n",
    "        (cw0, cw1) = self.unexpand2(cw)\n",
    "\n",
    "        return (cw0, cw1)\n",
    "\n",
    "    \n",
    "    def decryption_BGF(self, secret_key, cifra):\n",
    "        code = self.expand2(cifra)\n",
    "\n",
    "        (h0, h1) = secret_key\n",
    "        H        = block_matrix(2, 1, [self.Rot(h0), self.Rot(h1)])\n",
    "        synd     = code * H\n",
    "\n",
    "        cw = self.BGF(H, code, synd)\n",
    "        (cw0, cw1) = self.unexpand2(cw)\n",
    "\n",
    "        return (cw0, cw1)"
   ]
  },
  {
   "cell_type": "code",
   "execution_count": 8,
   "metadata": {},
   "outputs": [],
   "source": [
    "bike = BIKE()\n",
    "message = bike.Rr.random_element()  "
   ]
  },
  {
   "cell_type": "code",
   "execution_count": 9,
   "metadata": {},
   "outputs": [
    {
     "data": {
      "text/plain": [
       "False"
      ]
     },
     "execution_count": 9,
     "metadata": {},
     "output_type": "execute_result"
    }
   ],
   "source": [
    "bg = BIKE_PKE()\n",
    "\n",
    "public_key, secret_key = bg.key_generation()\n",
    "cifra          = bg.encryption(public_key, message)\n",
    "message_dec, _ = bg.decryption_BGF(secret_key, cifra)\n",
    "\n",
    "message == message_dec"
   ]
  },
  {
   "cell_type": "code",
   "execution_count": 10,
   "metadata": {},
   "outputs": [
    {
     "data": {
      "text/plain": [
       "True"
      ]
     },
     "execution_count": 10,
     "metadata": {},
     "output_type": "execute_result"
    }
   ],
   "source": [
    "pke = BIKE_PKE()\n",
    "\n",
    "public_key, secret_key = pke.key_generation()\n",
    "cifra          = pke.encryption(public_key, message)\n",
    "message_dec, _ = pke.decryption(secret_key, cifra)\n",
    "\n",
    "message == message_dec"
   ]
  },
  {
   "cell_type": "code",
   "execution_count": 11,
   "metadata": {},
   "outputs": [],
   "source": [
    "class BIKE_KEM(BIKE_PKE):\n",
    "    def encapsulation(self, public_key, message):\n",
    "        (g0, g1) = public_key\n",
    "        (e0,e1)  = self.noise()\n",
    "\n",
    "        key = self.mk_key((e0, e1))\n",
    "        enc = self.encryption(public_key, message, e0, e1)\n",
    "        \n",
    "        return (key, enc)\n",
    "\n",
    "    def decapsulation(self, secret_key, cifra):\n",
    "        (cw0, cw1) = self.decryption(secret_key, cifra)\n",
    "        enc0, enc1 = cifra\n",
    "        \n",
    "        return self.mk_key((cw0 + enc0 , cw1 + enc1))\n",
    "\n",
    "        "
   ]
  },
  {
   "cell_type": "code",
   "execution_count": 12,
   "metadata": {},
   "outputs": [
    {
     "data": {
      "text/plain": [
       "True"
      ]
     },
     "execution_count": 12,
     "metadata": {},
     "output_type": "execute_result"
    }
   ],
   "source": [
    "kem = BIKE_KEM()\n",
    "public_key, secret_key = kem.key_generation()\n",
    "key1, enc = kem.encapsulation(public_key, message)\n",
    "key2      = kem.decapsulation(secret_key, enc)\n",
    "\n",
    "key1 == key2"
   ]
  }
 ],
 "metadata": {
  "kernelspec": {
   "display_name": "SageMath 9.3",
   "language": "sage",
   "name": "sagemath"
  },
  "language_info": {
   "codemirror_mode": {
    "name": "ipython",
    "version": 3
   },
   "file_extension": ".py",
   "mimetype": "text/x-python",
   "name": "python",
   "nbconvert_exporter": "python",
   "pygments_lexer": "ipython3",
   "version": "3.9.7"
  },
  "orig_nbformat": 4
 },
 "nbformat": 4,
 "nbformat_minor": 2
}
