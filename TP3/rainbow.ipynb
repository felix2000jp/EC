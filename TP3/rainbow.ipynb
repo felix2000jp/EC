{
 "cells": [
  {
   "cell_type": "code",
   "execution_count": 10,
   "metadata": {},
   "outputs": [],
   "source": [
    "import hashlib"
   ]
  },
  {
   "cell_type": "markdown",
   "metadata": {},
   "source": [
    "Esta implementação seguiu a documentação pelo que, porque achamos que não vale a pena repetir o que está dito no documento da implementação, vamos falar apenas das duvidas e problemas que encontrá-mos ao longo do nosso trabalho.\n",
    "\n",
    "Em primeiro lugar tivemos dúvidas na geração do parâmetro **cs** pois na documentação ele não está em notação de vetor mas parece-nos ter o comportamento de um. O mesmo se pode dizer para a variável **ct**.\n",
    "\n",
    "Encontramos também algumas dificuldades nas funções auxiliares **aff** e **rainbowmap**. Mas as que provavelmente influenciaram mais na falha de verificação foi as funções **H** e **invF**.\n",
    "\n",
    "Em primeiro lugar nós achamos que a função **H** não está implementada corretamente, o que nós fizemos foi usar a função hash do documento e de seguida transformamos os bytes resultantes num array de inteiros (0 ou 1) correspondente aos bits.\n",
    "\n",
    "Quanto à função **invF**, não entendemos como é que podemos aplicar **y_v1** a **F** visto que têm tamanhos diferentes."
   ]
  },
  {
   "cell_type": "code",
   "execution_count": 11,
   "metadata": {},
   "outputs": [],
   "source": [
    "class Rainbow():    \n",
    "  def __init__(self):\n",
    "    # Parameter Set I\n",
    "    self.q  = 16\n",
    "    self.F  = GF(self.q) # Finite field with q elements\n",
    "    self.v1 = 36\n",
    "    self.o1 = 32\n",
    "    self.o2 = 32\n",
    "    self.n  = 100        # Number of variables\n",
    "    self.m  = 64         # Number of equations\n",
    "\n",
    "\n",
    "  # Helper Functions\n",
    "  def hash_function(self, msg):\n",
    "    def _access_bit(data, num):\n",
    "      base  = int(num // 8)\n",
    "      shift = int(num % 8)\n",
    "      return (data[base] & (1 << shift)) >> shift\n",
    "\n",
    "    shake = hashlib.shake_256()\n",
    "    shake.update(msg)\n",
    "    hashed = shake.digest(int(self.m / 8))\n",
    "    bits   = [_access_bit(hashed, i) for i in range(self.m)]\n",
    "    return matrix(bits)\n",
    "\n",
    "\n",
    "  def aff(self, M, c):\n",
    "    x = random_matrix(self.F, M.nrows(), 1)\n",
    "    return M * x + c\n",
    "\n",
    "  def rainbow_map(self):\n",
    "    return random_matrix(self.F, 1, self.n)\n",
    "\n",
    "  def inv_F(self, F, x):\n",
    "    y_v1 = random_matrix(self.F, self.v1, 1)\n",
    "    results = []\n",
    "    for i in range(self.v1):\n",
    "      f = (F[0][i]).polynomial()\n",
    "      results.append(f(y_v1[i][0]))\n",
    "    x = None\n",
    "    return result\n",
    "\n",
    "\n",
    "  # Key Generation\n",
    "  def key_generation(self):\n",
    "    # We create an invertible matrix Ms\n",
    "    Ms = random_matrix(self.F, self.m, self.m)\n",
    "    while Ms.is_invertible() == False:\n",
    "      Ms = random_matrix(self.F, self.m, self.m)\n",
    "\n",
    "    cs   = random_matrix(self.F, self.m, 1)\n",
    "    S    = self.aff(Ms, cs)\n",
    "    InvS = Ms.inverse()\n",
    "\n",
    "    # We create an invertible matrix Mt\n",
    "    Mt = random_matrix(self.F, self.n, self.n)\n",
    "    while Ms.is_invertible() == False:\n",
    "      Mt = random_matrix(self.F, self.n, self.n)\n",
    "    \n",
    "    ct   = random_matrix(self.F, self.n, 1)\n",
    "    T    = self.aff(Mt, ct)\n",
    "    InvT = Mt.inverse()\n",
    "\n",
    "    F = self.rainbow_map()\n",
    "    P = S * F * T\n",
    "\n",
    "    secret_key = (InvS, cs, F, InvT, ct)\n",
    "    public_key = P\n",
    "    return secret_key, public_key\n",
    "\n",
    "\n",
    "  # Sign\n",
    "  def sign(self, secret_key, d):\n",
    "    InvS, cs, F, InvT, ct = secret_key\n",
    "    \n",
    "    h = self.hash_function(d.encode())\n",
    "    x = InvS * (h.transpose() - cs)\n",
    "    #y = self.inv_F(F, x)\n",
    "    y = random_matrix(self.F, 1, self.n)\n",
    "    z = InvT * (y.transpose() - ct)\n",
    "\n",
    "    return z\n",
    "\n",
    "  # Verify\n",
    "  def verify(self, d, z, public_key):\n",
    "    P  = public_key\n",
    "    h  = self.hash_function(d.encode())\n",
    "    hl = P * z.transpose()\n",
    "    if h == hl:\n",
    "      print('Yo')\n",
    "    else:\n",
    "      print('Not Yo')\n"
   ]
  },
  {
   "cell_type": "code",
   "execution_count": 12,
   "metadata": {},
   "outputs": [
    {
     "name": "stdout",
     "output_type": "stream",
     "text": [
      "Not Yo\n"
     ]
    }
   ],
   "source": [
    "d = 'Lets pretende this is a document'\n",
    "rainbow = Rainbow()\n",
    "secret_key, public_key = rainbow.key_generation()\n",
    "z = rainbow.sign(secret_key, d)\n",
    "rainbow.verify(d, z, public_key)"
   ]
  }
 ],
 "metadata": {
  "kernelspec": {
   "display_name": "SageMath 9.3",
   "language": "sage",
   "name": "sagemath"
  },
  "language_info": {
   "codemirror_mode": {
    "name": "ipython",
    "version": 3
   },
   "file_extension": ".py",
   "mimetype": "text/x-python",
   "name": "python",
   "nbconvert_exporter": "python",
   "pygments_lexer": "ipython3",
   "version": "3.9.7"
  },
  "orig_nbformat": 4
 },
 "nbformat": 4,
 "nbformat_minor": 2
}
